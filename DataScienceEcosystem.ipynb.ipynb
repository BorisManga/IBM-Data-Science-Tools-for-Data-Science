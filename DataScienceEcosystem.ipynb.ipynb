{
 "cells": [
  {
   "cell_type": "markdown",
   "id": "8675a8b7-b22f-4279-8f8f-6401fc33bb9f",
   "metadata": {},
   "source": [
    "# Data Science Tools and Ecosystem"
   ]
  },
  {
   "cell_type": "markdown",
   "id": "737fb3ce-3edd-4c5b-be31-8c092abcd3ec",
   "metadata": {},
   "source": [
    "## In this notebook, Data Science Tools and Ecosystem are summarized."
   ]
  },
  {
   "cell_type": "markdown",
   "id": "8e75a8e0-6931-44c5-b7ef-dce7499c5adb",
   "metadata": {},
   "source": [
    "### Some of the popular languages that Data Scientists use are:\n",
    "+ Python\n",
    "+ R\n",
    "+ Julia"
   ]
  },
  {
   "cell_type": "markdown",
   "id": "6b8ddc4b-3731-4e55-8af1-d287a4d650bf",
   "metadata": {},
   "source": [
    "### Some of the commonly used libraries used by Data Scientists include:\n",
    "+ Pandas\n",
    "+ Numpy\n",
    "+ Maplotlib"
   ]
  },
  {
   "cell_type": "markdown",
   "id": "8b35bb95-fc9c-42fd-aaa9-dbfcd54b2497",
   "metadata": {},
   "source": [
    "| **Data Science Tools**  |\n",
    "|-------------------------|\n",
    "| Jupyter Notebook       |\n",
    "| RStudio               |\n",
    "\n"
   ]
  },
  {
   "cell_type": "markdown",
   "id": "c7d22021-42cd-4b59-8308-a285f4304122",
   "metadata": {},
   "source": [
    "## Below are a few examples of evaluating arithmetic expressions in Python"
   ]
  },
  {
   "cell_type": "code",
   "execution_count": 1,
   "id": "3a4e3c36-0cb0-43be-936b-5370992e040f",
   "metadata": {},
   "outputs": [
    {
     "data": {
      "text/plain": [
       "17"
      ]
     },
     "execution_count": 1,
     "metadata": {},
     "output_type": "execute_result"
    }
   ],
   "source": [
    "#This a simple arithmetic expression to mutiply then add integers\n",
    "(3*4)+5"
   ]
  },
  {
   "cell_type": "code",
   "execution_count": 2,
   "id": "ed29b562-c3ad-4a56-9daa-f822e7944289",
   "metadata": {},
   "outputs": [
    {
     "data": {
      "text/plain": [
       "3.3333333333333335"
      ]
     },
     "execution_count": 2,
     "metadata": {},
     "output_type": "execute_result"
    }
   ],
   "source": [
    "# This will convert 200 minutes to hours by diving by 60\n",
    "200/60"
   ]
  },
  {
   "cell_type": "markdown",
   "id": "327d12ee-b12c-41ed-ae05-911e70d4fbca",
   "metadata": {},
   "source": [
    "## **Objectives :** \n",
    "+ Data Science Tools\n",
    "+ Data Science Libraries\n",
    "+ Arithmetic operations"
   ]
  },
  {
   "cell_type": "markdown",
   "id": "8395618c-2635-4c53-9c2f-220b27b213b9",
   "metadata": {},
   "source": [
    "## Author : \n",
    "Boris"
   ]
  },
  {
   "cell_type": "code",
   "execution_count": null,
   "id": "348fb23e-e22a-4991-bbca-4254dbceca6f",
   "metadata": {},
   "outputs": [],
   "source": []
  }
 ],
 "metadata": {
  "kernelspec": {
   "display_name": "Python 3 (ipykernel)",
   "language": "python",
   "name": "python3"
  },
  "language_info": {
   "codemirror_mode": {
    "name": "ipython",
    "version": 3
   },
   "file_extension": ".py",
   "mimetype": "text/x-python",
   "name": "python",
   "nbconvert_exporter": "python",
   "pygments_lexer": "ipython3",
   "version": "3.12.8"
  }
 },
 "nbformat": 4,
 "nbformat_minor": 5
}
